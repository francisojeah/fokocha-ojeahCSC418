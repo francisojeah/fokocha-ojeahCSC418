{
 "cells": [
  {
   "cell_type": "markdown",
   "id": "588b2b1c",
   "metadata": {},
   "source": [
    "# Reading image in grayscale mode"
   ]
  },
  {
   "cell_type": "code",
   "execution_count": null,
   "id": "c145a64c",
   "metadata": {},
   "outputs": [],
   "source": [
    "# Importing the OpenCV library\n",
    "import cv2\n",
    "\n",
    "# path\n",
    "path = 'img/profile.png'\n",
    "\n",
    "# Reading the image in grayscale mode\n",
    "img  = cv2.imread(path, 0)\n",
    "\n",
    "# Window name in which image is displayed\n",
    "window_name = 'Profile Picture'\n",
    "\n",
    "# Display image\n",
    "cv2.imshow(window_name, img)\n",
    "\n",
    "# Hold the window\n",
    "cv2.waitKey(0)\n",
    "\n",
    "# Remove/delete created GUI window from screen and memory\n",
    "cv2.destroyAllWindows()"
   ]
  }
 ],
 "metadata": {
  "kernelspec": {
   "display_name": "Python 3 (ipykernel)",
   "language": "python",
   "name": "python3"
  },
  "language_info": {
   "codemirror_mode": {
    "name": "ipython",
    "version": 3
   },
   "file_extension": ".py",
   "mimetype": "text/x-python",
   "name": "python",
   "nbconvert_exporter": "python",
   "pygments_lexer": "ipython3",
   "version": "3.10.9"
  }
 },
 "nbformat": 4,
 "nbformat_minor": 5
}
