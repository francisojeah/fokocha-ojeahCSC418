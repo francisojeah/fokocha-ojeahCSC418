{
 "cells": [
  {
   "cell_type": "markdown",
   "id": "5de76611",
   "metadata": {},
   "source": [
    "# Project 2"
   ]
  },
  {
   "cell_type": "markdown",
   "id": "236d6335",
   "metadata": {},
   "source": [
    "You have been approached by The Director of Yemisi Shyllon Museum of Art (YSMA) to build a computer vision program with a graphical user interface (GUI) that would ask for a username and password from visitors to log in and view and perform image enhancements on the art collection at the museum. Given the knowledge of the collection categories from the previous project.\n",
    "\n",
    "Hint: Use the Python Tinker library to build your GUI\n"
   ]
  },
  {
   "cell_type": "code",
   "execution_count": 1,
   "id": "ed0e5fc8",
   "metadata": {},
   "outputs": [],
   "source": [
    "import tkinter as tk\n",
    "from tkinter import messagebox"
   ]
  },
  {
   "cell_type": "code",
   "execution_count": 2,
   "id": "abaf6aad",
   "metadata": {},
   "outputs": [],
   "source": [
    "# Function to validate login credentials\n",
    "def validate_login():\n",
    "    username = username_entry.get()\n",
    "    password = password_entry.get()\n",
    "    \n",
    "    # Predefined username and password for demonstration\n",
    "    if username == \"admin\" and password == \"password\":\n",
    "        messagebox.showinfo(\"Login Successful\", \"Welcome to YSMA!\")\n",
    "        # Code to display options for viewing and enhancing images\n",
    "    else:\n",
    "        messagebox.showerror(\"Login Failed\", \"Invalid username or password\")\n"
   ]
  },
  {
   "cell_type": "code",
   "execution_count": 3,
   "id": "66692fda",
   "metadata": {},
   "outputs": [],
   "source": [
    "# Create the main application window\n",
    "root = tk.Tk()\n",
    "root.title(\"YSMA Art Collection Viewer\")\n",
    "\n",
    "# Create and place login widgets\n",
    "username_label = tk.Label(root, text=\"Username:\")\n",
    "username_label.grid(row=0, column=0, padx=10, pady=5, sticky=\"e\")\n",
    "username_entry = tk.Entry(root)\n",
    "username_entry.grid(row=0, column=1, padx=10, pady=5)\n",
    "\n",
    "password_label = tk.Label(root, text=\"Password:\")\n",
    "password_label.grid(row=1, column=0, padx=10, pady=5, sticky=\"e\")\n",
    "password_entry = tk.Entry(root, show=\"*\")\n",
    "password_entry.grid(row=1, column=1, padx=10, pady=5)\n",
    "\n",
    "login_button = tk.Button(root, text=\"Login\", command=validate_login)\n",
    "login_button.grid(row=2, column=1, padx=10, pady=5)\n",
    "\n",
    "# Start the Tkinter event loop\n",
    "root.mainloop()"
   ]
  }
 ],
 "metadata": {
  "kernelspec": {
   "display_name": "Python 3 (ipykernel)",
   "language": "python",
   "name": "python3"
  },
  "language_info": {
   "codemirror_mode": {
    "name": "ipython",
    "version": 3
   },
   "file_extension": ".py",
   "mimetype": "text/x-python",
   "name": "python",
   "nbconvert_exporter": "python",
   "pygments_lexer": "ipython3",
   "version": "3.10.9"
  }
 },
 "nbformat": 4,
 "nbformat_minor": 5
}
