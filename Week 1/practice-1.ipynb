{
 "cells": [
  {
   "cell_type": "markdown",
   "id": "9b91a0c1",
   "metadata": {},
   "source": [
    "# Reading an image in OpenCV"
   ]
  },
  {
   "cell_type": "code",
   "execution_count": null,
   "id": "d6a43088",
   "metadata": {},
   "outputs": [],
   "source": [
    "# Importing the OpenCV library\n",
    "import cv2\n",
    "\n",
    "# path\n",
    "path = 'img/lagos.jpeg'\n",
    "\n",
    "# Reading the image using imread() function\n",
    "img  = cv2.imread(path)\n",
    "\n",
    "# Window name in which image is displayed\n",
    "window_name = 'Display Image'\n",
    "\n",
    "# Display image\n",
    "cv2.imshow(window_name, img)\n",
    "\n",
    "# Hold the window\n",
    "cv2.waitKey(0)\n",
    "\n",
    "# Remove/delete created GUI window from screen and memory\n",
    "cv2.destroyAllWindows()"
   ]
  }
 ],
 "metadata": {
  "kernelspec": {
   "display_name": "Python 3 (ipykernel)",
   "language": "python",
   "name": "python3"
  },
  "language_info": {
   "codemirror_mode": {
    "name": "ipython",
    "version": 3
   },
   "file_extension": ".py",
   "mimetype": "text/x-python",
   "name": "python",
   "nbconvert_exporter": "python",
   "pygments_lexer": "ipython3",
   "version": "3.10.9"
  }
 },
 "nbformat": 4,
 "nbformat_minor": 5
}
