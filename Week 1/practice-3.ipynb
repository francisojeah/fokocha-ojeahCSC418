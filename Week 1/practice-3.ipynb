{
 "cells": [
  {
   "cell_type": "markdown",
   "id": "dc5733ae",
   "metadata": {},
   "source": [
    "# Python OpenCV | Saving an image"
   ]
  },
  {
   "cell_type": "code",
   "execution_count": 2,
   "id": "78b8e763",
   "metadata": {},
   "outputs": [
    {
     "name": "stdout",
     "output_type": "stream",
     "text": [
      "Before saving image:\n",
      "['lagos.jpeg', 'profile.png']\n",
      "After saving image:\n",
      "['grayImage.png', 'lagos.jpeg', 'profile.png']\n",
      "Successfully saved\n"
     ]
    }
   ],
   "source": [
    "# Python program to explain cv2.imwrite() method\n",
    "\n",
    "# import cv2\n",
    "import cv2\n",
    "\n",
    "# importing os module\n",
    "import os\n",
    "\n",
    "# Image path\n",
    "image_path = r'C:\\Users\\Francis\\Documents\\PAU\\Year 4\\Semester 2\\CSC 418 - Special Topic Sciences In Computer Science\\fokocha-ojeahCSC418\\Week 1\\img\\profile.png'\n",
    "\n",
    "# Image directory\n",
    "directory = r'C:\\Users\\Francis\\Documents\\PAU\\Year 4\\Semester 2\\CSC 418 - Special Topic Sciences In Computer Science\\fokocha-ojeahCSC418\\Week 1\\img'\n",
    "\n",
    "# Using cv2.imread() method to read the image\n",
    "img = cv2.imread(image_path, 0)\n",
    "\n",
    "# Change the current directory to specified directory\n",
    "os.chdir(directory)\n",
    "\n",
    "# List files and directories\n",
    "print(\"Before saving image:\")\n",
    "print(os.listdir(directory))\n",
    "\n",
    "# Filename\n",
    "filename = 'grayImage.png'\n",
    "\n",
    "#Using cv2.imwrite() method save the image\n",
    "cv2.imwrite(filename, img)\n",
    "\n",
    "# List files and directories\n",
    "print(\"After saving image:\")\n",
    "print(os.listdir(directory))\n",
    "\n",
    "print(\"Successfully saved\")"
   ]
  }
 ],
 "metadata": {
  "kernelspec": {
   "display_name": "Python 3 (ipykernel)",
   "language": "python",
   "name": "python3"
  },
  "language_info": {
   "codemirror_mode": {
    "name": "ipython",
    "version": 3
   },
   "file_extension": ".py",
   "mimetype": "text/x-python",
   "name": "python",
   "nbconvert_exporter": "python",
   "pygments_lexer": "ipython3",
   "version": "3.10.9"
  }
 },
 "nbformat": 4,
 "nbformat_minor": 5
}
